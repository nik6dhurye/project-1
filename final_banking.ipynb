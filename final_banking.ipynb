{
 "cells": [
  {
   "cell_type": "code",
   "execution_count": 1,
   "metadata": {},
   "outputs": [],
   "source": [
    "import os\n",
    "import pandas as pd\n",
    "import matplotlib.pyplot as plt\n",
    "import seaborn as sns\n"
   ]
  },
  {
   "cell_type": "code",
   "execution_count": 8,
   "metadata": {},
   "outputs": [],
   "source": [
    "df = pd.read_csv('bank-additional-full.csv',\";\")"
   ]
  },
  {
   "cell_type": "code",
   "execution_count": 3,
   "metadata": {},
   "outputs": [
    {
     "data": {
      "text/plain": [
       "(41188, 21)"
      ]
     },
     "execution_count": 3,
     "metadata": {},
     "output_type": "execute_result"
    }
   ],
   "source": [
    "df.shape"
   ]
  },
  {
   "cell_type": "code",
   "execution_count": 4,
   "metadata": {},
   "outputs": [
    {
     "data": {
      "text/plain": [
       "Index(['age', 'job', 'marital', 'education', 'default', 'housing', 'loan',\n",
       "       'contact', 'month', 'day_of_week', 'duration', 'campaign', 'pdays',\n",
       "       'previous', 'poutcome', 'emp.var.rate', 'cons.price.idx',\n",
       "       'cons.conf.idx', 'euribor3m', 'nr.employed', 'y'],\n",
       "      dtype='object')"
      ]
     },
     "execution_count": 4,
     "metadata": {},
     "output_type": "execute_result"
    }
   ],
   "source": [
    "df.columns"
   ]
  },
  {
   "cell_type": "code",
   "execution_count": 11,
   "metadata": {},
   "outputs": [],
   "source": [
    "df.columns =['age', 'job', 'marital', 'education', 'credit_default', 'housing_loan', 'personal_loan',\n",
    "       'contact_type', 'last_contact_month', 'last_contact_day_of_week', 'last_contact_duration', 'no_of_contacts', \n",
    "              'time_between_contacts','previous_no_of_contacts', 'prev_outcome', 'emp_var_rate', 'consumer_price_index',\n",
    "              'consumer_conf_index','euribor_3month_rate', 'num_of_employed', 'target']"
   ]
  },
  {
   "cell_type": "code",
   "execution_count": 13,
   "metadata": {},
   "outputs": [
    {
     "data": {
      "text/plain": [
       "Index(['age', 'job', 'marital', 'education', 'credit_default', 'housing_loan',\n",
       "       'personal_loan', 'contact_type', 'last_contact_month',\n",
       "       'last_contact_day_of_week', 'last_contact_duration', 'no_of_contacts',\n",
       "       'time_between_contacts', 'previous_no_of_contacts', 'prev_outcome',\n",
       "       'emp_var_rate', 'consumer_price_index', 'consumer_conf_index',\n",
       "       'euribor_3month_rate', 'num_of_employed', 'target'],\n",
       "      dtype='object')"
      ]
     },
     "execution_count": 13,
     "metadata": {},
     "output_type": "execute_result"
    }
   ],
   "source": [
    "df.columns"
   ]
  },
  {
   "cell_type": "code",
   "execution_count": 14,
   "metadata": {},
   "outputs": [
    {
     "data": {
      "text/plain": [
       "age                         0\n",
       "job                         0\n",
       "marital                     0\n",
       "education                   0\n",
       "credit_default              0\n",
       "housing_loan                0\n",
       "personal_loan               0\n",
       "contact_type                0\n",
       "last_contact_month          0\n",
       "last_contact_day_of_week    0\n",
       "last_contact_duration       0\n",
       "no_of_contacts              0\n",
       "time_between_contacts       0\n",
       "previous_no_of_contacts     0\n",
       "prev_outcome                0\n",
       "emp_var_rate                0\n",
       "consumer_price_index        0\n",
       "consumer_conf_index         0\n",
       "euribor_3month_rate         0\n",
       "num_of_employed             0\n",
       "target                      0\n",
       "dtype: int64"
      ]
     },
     "execution_count": 14,
     "metadata": {},
     "output_type": "execute_result"
    }
   ],
   "source": [
    "df.isnull().sum()"
   ]
  },
  {
   "cell_type": "code",
   "execution_count": 31,
   "metadata": {},
   "outputs": [],
   "source": [
    "colnames=[]\n",
    "col_unique_vals = []\n",
    "for col in df.columns:\n",
    "    colnames.append(col)\n",
    "    col_unique_vals.append(df[col].nunique())\n",
    "\n",
    "unique_counts_df = pd.DataFrame(col_unique_vals,index=colnames)\n",
    "unique_counts_df.columns = ['Uniques']"
   ]
  },
  {
   "cell_type": "code",
   "execution_count": 35,
   "metadata": {},
   "outputs": [
    {
     "data": {
      "text/html": [
       "<div>\n",
       "<style scoped>\n",
       "    .dataframe tbody tr th:only-of-type {\n",
       "        vertical-align: middle;\n",
       "    }\n",
       "\n",
       "    .dataframe tbody tr th {\n",
       "        vertical-align: top;\n",
       "    }\n",
       "\n",
       "    .dataframe thead th {\n",
       "        text-align: right;\n",
       "    }\n",
       "</style>\n",
       "<table border=\"1\" class=\"dataframe\">\n",
       "  <thead>\n",
       "    <tr style=\"text-align: right;\">\n",
       "      <th></th>\n",
       "      <th>Uniques</th>\n",
       "    </tr>\n",
       "  </thead>\n",
       "  <tbody>\n",
       "    <tr>\n",
       "      <th>age</th>\n",
       "      <td>78</td>\n",
       "    </tr>\n",
       "    <tr>\n",
       "      <th>job</th>\n",
       "      <td>12</td>\n",
       "    </tr>\n",
       "    <tr>\n",
       "      <th>marital</th>\n",
       "      <td>4</td>\n",
       "    </tr>\n",
       "    <tr>\n",
       "      <th>education</th>\n",
       "      <td>8</td>\n",
       "    </tr>\n",
       "    <tr>\n",
       "      <th>credit_default</th>\n",
       "      <td>3</td>\n",
       "    </tr>\n",
       "    <tr>\n",
       "      <th>housing_loan</th>\n",
       "      <td>3</td>\n",
       "    </tr>\n",
       "    <tr>\n",
       "      <th>personal_loan</th>\n",
       "      <td>3</td>\n",
       "    </tr>\n",
       "    <tr>\n",
       "      <th>contact_type</th>\n",
       "      <td>2</td>\n",
       "    </tr>\n",
       "    <tr>\n",
       "      <th>last_contact_month</th>\n",
       "      <td>10</td>\n",
       "    </tr>\n",
       "    <tr>\n",
       "      <th>last_contact_day_of_week</th>\n",
       "      <td>5</td>\n",
       "    </tr>\n",
       "    <tr>\n",
       "      <th>last_contact_duration</th>\n",
       "      <td>1544</td>\n",
       "    </tr>\n",
       "    <tr>\n",
       "      <th>no_of_contacts</th>\n",
       "      <td>42</td>\n",
       "    </tr>\n",
       "    <tr>\n",
       "      <th>time_between_contacts</th>\n",
       "      <td>27</td>\n",
       "    </tr>\n",
       "    <tr>\n",
       "      <th>previous_no_of_contacts</th>\n",
       "      <td>8</td>\n",
       "    </tr>\n",
       "    <tr>\n",
       "      <th>prev_outcome</th>\n",
       "      <td>3</td>\n",
       "    </tr>\n",
       "    <tr>\n",
       "      <th>emp_var_rate</th>\n",
       "      <td>10</td>\n",
       "    </tr>\n",
       "    <tr>\n",
       "      <th>consumer_price_index</th>\n",
       "      <td>26</td>\n",
       "    </tr>\n",
       "    <tr>\n",
       "      <th>consumer_conf_index</th>\n",
       "      <td>26</td>\n",
       "    </tr>\n",
       "    <tr>\n",
       "      <th>euribor_3month_rate</th>\n",
       "      <td>316</td>\n",
       "    </tr>\n",
       "    <tr>\n",
       "      <th>num_of_employed</th>\n",
       "      <td>11</td>\n",
       "    </tr>\n",
       "    <tr>\n",
       "      <th>target</th>\n",
       "      <td>2</td>\n",
       "    </tr>\n",
       "  </tbody>\n",
       "</table>\n",
       "</div>"
      ],
      "text/plain": [
       "                          Uniques\n",
       "age                            78\n",
       "job                            12\n",
       "marital                         4\n",
       "education                       8\n",
       "credit_default                  3\n",
       "housing_loan                    3\n",
       "personal_loan                   3\n",
       "contact_type                    2\n",
       "last_contact_month             10\n",
       "last_contact_day_of_week        5\n",
       "last_contact_duration        1544\n",
       "no_of_contacts                 42\n",
       "time_between_contacts          27\n",
       "previous_no_of_contacts         8\n",
       "prev_outcome                    3\n",
       "emp_var_rate                   10\n",
       "consumer_price_index           26\n",
       "consumer_conf_index            26\n",
       "euribor_3month_rate           316\n",
       "num_of_employed                11\n",
       "target                          2"
      ]
     },
     "execution_count": 35,
     "metadata": {},
     "output_type": "execute_result"
    }
   ],
   "source": [
    "unique_counts_df"
   ]
  },
  {
   "cell_type": "code",
   "execution_count": 36,
   "metadata": {},
   "outputs": [
    {
     "data": {
      "text/plain": [
       "no     36548\n",
       "yes     4640\n",
       "Name: target, dtype: int64"
      ]
     },
     "execution_count": 36,
     "metadata": {},
     "output_type": "execute_result"
    }
   ],
   "source": [
    "#univariate analysis of the target\n",
    "df['target'].value_counts()"
   ]
  },
  {
   "cell_type": "code",
   "execution_count": 54,
   "metadata": {},
   "outputs": [
    {
     "data": {
      "image/png": "[encoded data removed]",
      "text/plain": [
       "<Figure size 432x288 with 1 Axes>"
      ]
     },
     "metadata": {},
     "output_type": "display_data"
    }
   ],
   "source": [
    "\n",
    "\n",
    "\n",
    "\n",
    "labels = 'No', 'Yes'\n",
    "sizes = [36548, 4640]\n",
    "colors = ['red', 'green']\n",
    "explode = (0.3, 0)  # explode 1st slice\n",
    " \n",
    "# Plot\n",
    "plt.pie(sizes, explode=explode, labels=labels, colors=colors,\n",
    "autopct='%1.1f%%', shadow=True, startangle=0)\n",
    " \n",
    "plt.axis('equal')\n",
    "plt.show()"
   ]
  },
  {
   "cell_type": "code",
   "execution_count": 59,
   "metadata": {},
   "outputs": [
    {
     "data": {
      "image/png": "[encoded data removed]",
      "text/plain": [
       "<Figure size 720x576 with 1 Axes>"
      ]
     },
     "metadata": {
      "needs_background": "light"
     },
     "output_type": "display_data"
    }
   ],
   "source": [
    "fig, ax = plt.subplots()\n",
    "fig.set_size_inches(10, 8)\n",
    "sns.countplot(x = 'target', data = df)\n",
    "ax.set_xlabel('Target Variable', fontsize=15)\n",
    "ax.set_ylabel('Count', fontsize=15)\n",
    "ax.set_title('Target Variable Distribution', fontsize=15)\n",
    "sns.despine()\n",
    "# there is a class imbalance that needs to be handled"
   ]
  },
  {
   "cell_type": "code",
   "execution_count": 63,
   "metadata": {},
   "outputs": [
    {
     "data": {
      "text/plain": [
       "<matplotlib.axes._subplots.AxesSubplot at 0x7f724bf2ec88>"
      ]
     },
     "execution_count": 63,
     "metadata": {},
     "output_type": "execute_result"
    },
    {
     "data": {
      "image/png": "[encoded data removed]",
      "text/plain": [
       "<Figure size 432x288 with 1 Axes>"
      ]
     },
     "metadata": {
      "needs_background": "light"
     },
     "output_type": "display_data"
    }
   ],
   "source": [
    "sns.distplot(df['age'])"
   ]
  },
  {
   "cell_type": "code",
   "execution_count": 75,
   "metadata": {},
   "outputs": [
    {
     "name": "stdout",
     "output_type": "stream",
     "text": [
      "1st Quartile:  32.0\n",
      "2nd Quartile:  38.0\n",
      "3rd Quartile:  47.0\n",
      "4th Quartile:  98.0\n",
      "IQR:  15.0\n",
      "Ages above:  69.5 are outliers\n",
      "Ages below:  9.5 are outliers\n",
      "There are 469 outliers\n"
     ]
    }
   ],
   "source": [
    "# outlier detection code\n",
    "Q1=df['age'].quantile(q = 0.25)\n",
    "Q2=df['age'].quantile(q = 0.50)\n",
    "Q3=df['age'].quantile(q = 0.75)\n",
    "Q4=df['age'].quantile(q = 1.00)                        \n",
    "\n",
    "IQR= Q3-Q1\n",
    "\n",
    "print('1st Quartile: ', Q1)\n",
    "print('2nd Quartile: ', Q2)\n",
    "print('3rd Quartile: ', Q3)\n",
    "print('4th Quartile: ', Q4)\n",
    "print('IQR: ',IQR)\n",
    "\n",
    "\n",
    "print('Ages above: ', Q3 + 1.5*(IQR), 'are outliers')\n",
    "print('Ages below: ', Q1 - 1.5*(IQR), 'are outliers')\n",
    "print('There are',sum((df['age']>(Q3 + 1.5*(IQR))) | (df['age'] < (Q1 - 1.5*(IQR)))),\"outliers\")"
   ]
  },
  {
   "cell_type": "code",
   "execution_count": 74,
   "metadata": {},
   "outputs": [
    {
     "data": {
      "text/plain": [
       "469"
      ]
     },
     "execution_count": 74,
     "metadata": {},
     "output_type": "execute_result"
    }
   ],
   "source": [
    "sum((df['age']>(Q3 + 1.5*(IQR))) | (df['age'] < (Q1 - 1.5*(IQR))))"
   ]
  },
  {
   "cell_type": "code",
   "execution_count": 78,
   "metadata": {},
   "outputs": [
    {
     "data": {
      "text/plain": [
       "38452    98\n",
       "38455    98\n",
       "27826    95\n",
       "38921    94\n",
       "40450    92\n",
       "40469    92\n",
       "39655    92\n",
       "39734    92\n",
       "38032    91\n",
       "38022    91\n",
       "40639    89\n",
       "39847    89\n",
       "27814    88\n",
       "27800    88\n",
       "27802    88\n",
       "27815    88\n",
       "27805    88\n",
       "27808    88\n",
       "27816    88\n",
       "27817    88\n",
       "27818    88\n",
       "37775    88\n",
       "27810    88\n",
       "27811    88\n",
       "27812    88\n",
       "27813    88\n",
       "38415    88\n",
       "30430    88\n",
       "37472    88\n",
       "38410    88\n",
       "         ..\n",
       "37934    18\n",
       "37125    18\n",
       "40383    18\n",
       "30142    18\n",
       "38597    18\n",
       "35872    18\n",
       "39903    18\n",
       "39593    18\n",
       "39610    18\n",
       "38009    18\n",
       "39057    18\n",
       "41088    18\n",
       "39576    18\n",
       "30349    18\n",
       "39039    18\n",
       "40379    18\n",
       "37917    18\n",
       "35871    18\n",
       "41084    18\n",
       "39036    18\n",
       "37955    18\n",
       "27792    18\n",
       "37626    18\n",
       "24110    18\n",
       "38832    18\n",
       "37558    17\n",
       "37140    17\n",
       "37539    17\n",
       "37579    17\n",
       "38274    17\n",
       "Name: age, Length: 41188, dtype: int64"
      ]
     },
     "execution_count": 78,
     "metadata": {},
     "output_type": "execute_result"
    }
   ],
   "source": [
    "df['age'].sort_values(ascending = False)"
   ]
  },
  {
   "cell_type": "code",
   "execution_count": 81,
   "metadata": {},
   "outputs": [
    {
     "data": {
      "text/plain": [
       "<matplotlib.axes._subplots.AxesSubplot at 0x7f72389a55c0>"
      ]
     },
     "execution_count": 81,
     "metadata": {},
     "output_type": "execute_result"
    },
    {
     "data": {
      "image/png": "[encoded data removed]",
      "text/plain": [
       "<Figure size 432x288 with 1 Axes>"
      ]
     },
     "metadata": {
      "needs_background": "light"
     },
     "output_type": "display_data"
    }
   ],
   "source": [
    "sns.scatterplot(x = df['age'],y=df['target'])"
   ]
  },
  {
   "cell_type": "code",
   "execution_count": 99,
   "metadata": {},
   "outputs": [
    {
     "data": {
      "text/html": [
       "<div>\n",
       "<style scoped>\n",
       "    .dataframe tbody tr th:only-of-type {\n",
       "        vertical-align: middle;\n",
       "    }\n",
       "\n",
       "    .dataframe tbody tr th {\n",
       "        vertical-align: top;\n",
       "    }\n",
       "\n",
       "    .dataframe thead th {\n",
       "        text-align: right;\n",
       "    }\n",
       "</style>\n",
       "<table border=\"1\" class=\"dataframe\">\n",
       "  <thead>\n",
       "    <tr style=\"text-align: right;\">\n",
       "      <th>target</th>\n",
       "      <th>no</th>\n",
       "      <th>yes</th>\n",
       "    </tr>\n",
       "    <tr>\n",
       "      <th>age</th>\n",
       "      <th></th>\n",
       "      <th></th>\n",
       "    </tr>\n",
       "  </thead>\n",
       "  <tbody>\n",
       "    <tr>\n",
       "      <th>(17, 20]</th>\n",
       "      <td>80</td>\n",
       "      <td>55</td>\n",
       "    </tr>\n",
       "    <tr>\n",
       "      <th>(20, 25]</th>\n",
       "      <td>1234</td>\n",
       "      <td>292</td>\n",
       "    </tr>\n",
       "    <tr>\n",
       "      <th>(25, 55]</th>\n",
       "      <td>32390</td>\n",
       "      <td>3550</td>\n",
       "    </tr>\n",
       "    <tr>\n",
       "      <th>(55, 60]</th>\n",
       "      <td>2345</td>\n",
       "      <td>327</td>\n",
       "    </tr>\n",
       "    <tr>\n",
       "      <th>(60, 100]</th>\n",
       "      <td>496</td>\n",
       "      <td>414</td>\n",
       "    </tr>\n",
       "  </tbody>\n",
       "</table>\n",
       "</div>"
      ],
      "text/plain": [
       "target        no   yes\n",
       "age                   \n",
       "(17, 20]      80    55\n",
       "(20, 25]    1234   292\n",
       "(25, 55]   32390  3550\n",
       "(55, 60]    2345   327\n",
       "(60, 100]    496   414"
      ]
     },
     "execution_count": 99,
     "metadata": {},
     "output_type": "execute_result"
    }
   ],
   "source": [
    "pd.crosstab(pd.cut(df['age'],bins=[17,20,25,55,60,100]),df['target']) # hence we will create a new feature out of this variable"
   ]
  },
  {
   "cell_type": "code",
   "execution_count": 109,
   "metadata": {},
   "outputs": [
    {
     "name": "stdout",
     "output_type": "stream",
     "text": [
      "target           no   yes     ratio\n",
      "job                                \n",
      "admin.         9070  1352  0.149063\n",
      "blue-collar    8616   638  0.074048\n",
      "entrepreneur   1332   124  0.093093\n",
      "housemaid       954   106  0.111111\n",
      "management     2596   328  0.126348\n",
      "retired        1286   434  0.337481\n",
      "self-employed  1272   149  0.117138\n",
      "services       3646   323  0.088590\n",
      "student         600   275  0.458333\n",
      "technician     6013   730  0.121404\n",
      "unemployed      870   144  0.165517\n",
      "unknown         293    37  0.126280\n"
     ]
    }
   ],
   "source": [
    "temp = pd.crosstab(df['job'],df['target']) \n",
    "temp['ratio'] = temp['yes']/temp['no']\n",
    "print(temp)"
   ]
  },
  {
   "cell_type": "code",
   "execution_count": 110,
   "metadata": {},
   "outputs": [
    {
     "name": "stdout",
     "output_type": "stream",
     "text": [
      "target                  no   yes     ratio\n",
      "education                                 \n",
      "basic.4y              3748   428  0.114194\n",
      "basic.6y              2104   188  0.089354\n",
      "basic.9y              5572   473  0.084889\n",
      "high.school           8484  1031  0.121523\n",
      "illiterate              14     4  0.285714\n",
      "professional.course   4648   595  0.128012\n",
      "university.degree    10498  1670  0.159078\n",
      "unknown               1480   251  0.169595\n"
     ]
    }
   ],
   "source": []
  },
  {
   "cell_type": "code",
   "execution_count": 107,
   "metadata": {},
   "outputs": [
    {
     "data": {
      "text/html": [
       "<div>\n",
       "<style scoped>\n",
       "    .dataframe tbody tr th:only-of-type {\n",
       "        vertical-align: middle;\n",
       "    }\n",
       "\n",
       "    .dataframe tbody tr th {\n",
       "        vertical-align: top;\n",
       "    }\n",
       "\n",
       "    .dataframe thead th {\n",
       "        text-align: right;\n",
       "    }\n",
       "</style>\n",
       "<table border=\"1\" class=\"dataframe\">\n",
       "  <thead>\n",
       "    <tr style=\"text-align: right;\">\n",
       "      <th>target</th>\n",
       "      <th>no</th>\n",
       "      <th>yes</th>\n",
       "      <th>ratio</th>\n",
       "    </tr>\n",
       "    <tr>\n",
       "      <th>job</th>\n",
       "      <th></th>\n",
       "      <th></th>\n",
       "      <th></th>\n",
       "    </tr>\n",
       "  </thead>\n",
       "  <tbody>\n",
       "    <tr>\n",
       "      <th>admin.</th>\n",
       "      <td>9070</td>\n",
       "      <td>1352</td>\n",
       "      <td>0.149063</td>\n",
       "    </tr>\n",
       "    <tr>\n",
       "      <th>blue-collar</th>\n",
       "      <td>8616</td>\n",
       "      <td>638</td>\n",
       "      <td>0.074048</td>\n",
       "    </tr>\n",
       "    <tr>\n",
       "      <th>entrepreneur</th>\n",
       "      <td>1332</td>\n",
       "      <td>124</td>\n",
       "      <td>0.093093</td>\n",
       "    </tr>\n",
       "    <tr>\n",
       "      <th>housemaid</th>\n",
       "      <td>954</td>\n",
       "      <td>106</td>\n",
       "      <td>0.111111</td>\n",
       "    </tr>\n",
       "    <tr>\n",
       "      <th>management</th>\n",
       "      <td>2596</td>\n",
       "      <td>328</td>\n",
       "      <td>0.126348</td>\n",
       "    </tr>\n",
       "    <tr>\n",
       "      <th>retired</th>\n",
       "      <td>1286</td>\n",
       "      <td>434</td>\n",
       "      <td>0.337481</td>\n",
       "    </tr>\n",
       "    <tr>\n",
       "      <th>self-employed</th>\n",
       "      <td>1272</td>\n",
       "      <td>149</td>\n",
       "      <td>0.117138</td>\n",
       "    </tr>\n",
       "    <tr>\n",
       "      <th>services</th>\n",
       "      <td>3646</td>\n",
       "      <td>323</td>\n",
       "      <td>0.088590</td>\n",
       "    </tr>\n",
       "    <tr>\n",
       "      <th>student</th>\n",
       "      <td>600</td>\n",
       "      <td>275</td>\n",
       "      <td>0.458333</td>\n",
       "    </tr>\n",
       "    <tr>\n",
       "      <th>technician</th>\n",
       "      <td>6013</td>\n",
       "      <td>730</td>\n",
       "      <td>0.121404</td>\n",
       "    </tr>\n",
       "    <tr>\n",
       "      <th>unemployed</th>\n",
       "      <td>870</td>\n",
       "      <td>144</td>\n",
       "      <td>0.165517</td>\n",
       "    </tr>\n",
       "    <tr>\n",
       "      <th>unknown</th>\n",
       "      <td>293</td>\n",
       "      <td>37</td>\n",
       "      <td>0.126280</td>\n",
       "    </tr>\n",
       "  </tbody>\n",
       "</table>\n",
       "</div>"
      ],
      "text/plain": [
       "target           no   yes     ratio\n",
       "job                                \n",
       "admin.         9070  1352  0.149063\n",
       "blue-collar    8616   638  0.074048\n",
       "entrepreneur   1332   124  0.093093\n",
       "housemaid       954   106  0.111111\n",
       "management     2596   328  0.126348\n",
       "retired        1286   434  0.337481\n",
       "self-employed  1272   149  0.117138\n",
       "services       3646   323  0.088590\n",
       "student         600   275  0.458333\n",
       "technician     6013   730  0.121404\n",
       "unemployed      870   144  0.165517\n",
       "unknown         293    37  0.126280"
      ]
     },
     "execution_count": 107,
     "metadata": {},
     "output_type": "execute_result"
    }
   ],
   "source": []
  },
  {
   "cell_type": "code",
   "execution_count": 114,
   "metadata": {},
   "outputs": [
    {
     "data": {
      "text/plain": [
       "university.degree      12168\n",
       "high.school             9515\n",
       "basic.9y                6045\n",
       "professional.course     5243\n",
       "basic.4y                4176\n",
       "basic.6y                2292\n",
       "unknown                 1731\n",
       "illiterate                18\n",
       "Name: education, dtype: int64"
      ]
     },
     "execution_count": 114,
     "metadata": {},
     "output_type": "execute_result"
    }
   ],
   "source": [
    "df['education'].value_counts()"
   ]
  },
  {
   "cell_type": "code",
   "execution_count": 115,
   "metadata": {},
   "outputs": [
    {
     "name": "stdout",
     "output_type": "stream",
     "text": [
      "target                  no   yes     ratio\n",
      "education                                 \n",
      "basic.4y              3748   428  0.114194\n",
      "basic.6y              2104   188  0.089354\n",
      "basic.9y              5572   473  0.084889\n",
      "high.school           8484  1031  0.121523\n",
      "illiterate              14     4  0.285714\n",
      "professional.course   4648   595  0.128012\n",
      "university.degree    10498  1670  0.159078\n",
      "unknown               1480   251  0.169595\n"
     ]
    }
   ],
   "source": [
    "temp = pd.crosstab(df['education'],df['target']) \n",
    "temp['ratio'] = temp['yes']/temp['no']\n",
    "print(temp)"
   ]
  },
  {
   "cell_type": "code",
   "execution_count": 113,
   "metadata": {},
   "outputs": [
    {
     "data": {
      "image/png": "[encoded data removed]",
      "text/plain": [
       "<Figure size 720x576 with 1 Axes>"
      ]
     },
     "metadata": {
      "needs_background": "light"
     },
     "output_type": "display_data"
    }
   ],
   "source": [
    "fig, ax = plt.subplots()\n",
    "fig.set_size_inches(10, 8)\n",
    "sns.countplot(x = 'education', data = df)\n",
    "ax.set_xlabel('Target Variable', fontsize=15)\n",
    "ax.set_ylabel('Count', fontsize=15)\n",
    "ax.set_title('Target Variable Distribution', fontsize=15)\n",
    "sns.despine()"
   ]
  },
  {
   "cell_type": "code",
   "execution_count": 116,
   "metadata": {},
   "outputs": [
    {
     "name": "stdout",
     "output_type": "stream",
     "text": [
      "target             no   yes     ratio\n",
      "credit_default                       \n",
      "no              28391  4197  0.147829\n",
      "unknown          8154   443  0.054329\n",
      "yes                 3     0  0.000000\n"
     ]
    }
   ],
   "source": [
    "temp = pd.crosstab(df['credit_default'],df['target']) \n",
    "temp['ratio'] = temp['yes']/temp['no']\n",
    "print(temp)"
   ]
  },
  {
   "cell_type": "code",
   "execution_count": 117,
   "metadata": {},
   "outputs": [
    {
     "name": "stdout",
     "output_type": "stream",
     "text": [
      "target           no   yes     ratio\n",
      "housing_loan                       \n",
      "no            16596  2026  0.122078\n",
      "unknown         883   107  0.121178\n",
      "yes           19069  2507  0.131470\n"
     ]
    }
   ],
   "source": [
    "temp = pd.crosstab(df['housing_loan'],df['target']) \n",
    "temp['ratio'] = temp['yes']/temp['no']\n",
    "print(temp)"
   ]
  },
  {
   "cell_type": "code",
   "execution_count": 118,
   "metadata": {},
   "outputs": [
    {
     "name": "stdout",
     "output_type": "stream",
     "text": [
      "target            no   yes     ratio\n",
      "personal_loan                       \n",
      "no             30100  3850  0.127907\n",
      "unknown          883   107  0.121178\n",
      "yes             5565   683  0.122731\n"
     ]
    }
   ],
   "source": [
    "temp = pd.crosstab(df['personal_loan'],df['target']) \n",
    "temp['ratio'] = temp['yes']/temp['no']\n",
    "print(temp)"
   ]
  },
  {
   "cell_type": "code",
   "execution_count": 119,
   "metadata": {},
   "outputs": [
    {
     "name": "stdout",
     "output_type": "stream",
     "text": [
      "target           no   yes     ratio\n",
      "contact_type                       \n",
      "cellular      22291  3853  0.172850\n",
      "telephone     14257   787  0.055201\n"
     ]
    }
   ],
   "source": [
    "temp = pd.crosstab(df['contact_type'],df['target']) \n",
    "temp['ratio'] = temp['yes']/temp['no']\n",
    "print(temp)"
   ]
  },
  {
   "cell_type": "code",
   "execution_count": null,
   "metadata": {},
   "outputs": [],
   "source": [
    "temp = pd.crosstab(df['contact_type'],df['target']) \n",
    "temp['ratio'] = temp['yes']/temp['no']\n",
    "print(temp)"
   ]
  },
  {
   "cell_type": "code",
   "execution_count": 122,
   "metadata": {},
   "outputs": [
    {
     "data": {
      "image/png": "[encoded data removed]",
      "text/plain": [
       "<Figure size 720x576 with 1 Axes>"
      ]
     },
     "metadata": {
      "needs_background": "light"
     },
     "output_type": "display_data"
    }
   ],
   "source": [
    "fig, ax = plt.subplots()\n",
    "fig.set_size_inches(10, 8)\n",
    "sns.countplot(x = 'last_contact_month', data = df)\n",
    "ax.set_xlabel('Target Variable', fontsize=15)\n",
    "ax.set_ylabel('Count', fontsize=15)\n",
    "ax.set_title('Target Variable Distribution', fontsize=15)\n",
    "sns.despine()"
   ]
  },
  {
   "cell_type": "code",
   "execution_count": 129,
   "metadata": {},
   "outputs": [
    {
     "name": "stdout",
     "output_type": "stream",
     "text": [
      "target                 no  yes     ratio\n",
      "last_contact_month                      \n",
      "mar                   270  276  1.022222\n",
      "dec                    93   89  0.956989\n",
      "sep                   314  256  0.815287\n",
      "oct                   403  315  0.781638\n",
      "apr                  2093  539  0.257525\n",
      "aug                  5523  655  0.118595\n",
      "jun                  4759  559  0.117462\n",
      "nov                  3685  416  0.112890\n",
      "jul                  6525  649  0.099464\n",
      "may                 12883  886  0.068773\n"
     ]
    }
   ],
   "source": [
    "temp = pd.crosstab(df['last_contact_month'],df['target']) \n",
    "temp['ratio'] = temp['yes']/temp['no']\n",
    "print(temp.sort_values(by = ['ratio'], ascending = False))"
   ]
  },
  {
   "cell_type": "code",
   "execution_count": 130,
   "metadata": {},
   "outputs": [
    {
     "name": "stdout",
     "output_type": "stream",
     "text": [
      "target             no   yes     ratio\n",
      "no_of_contacts                       \n",
      "1               15342  2300  0.149915\n",
      "2                9359  1211  0.129394\n",
      "3                4767   574  0.120411\n",
      "4                2402   249  0.103664\n",
      "6                 904    75  0.082965\n",
      "5                1479   120  0.081136\n",
      "17                 54     4  0.074074\n",
      "11                165    12  0.072727\n",
      "23                 15     1  0.066667\n",
      "7                 591    38  0.064298\n",
      "9                 266    17  0.063910\n",
      "10                213    12  0.056338\n",
      "13                 88     4  0.045455\n",
      "8                 383    17  0.044386\n",
      "15                 49     2  0.040816\n",
      "12                122     3  0.024590\n",
      "14                 68     1  0.014706\n",
      "43                  2     0  0.000000\n",
      "30                  7     0  0.000000\n",
      "42                  2     0  0.000000\n",
      "41                  1     0  0.000000\n",
      "40                  2     0  0.000000\n",
      "39                  1     0  0.000000\n",
      "37                  1     0  0.000000\n",
      "35                  5     0  0.000000\n",
      "34                  3     0  0.000000\n",
      "33                  4     0  0.000000\n",
      "32                  4     0  0.000000\n",
      "31                  7     0  0.000000\n",
      "22                 17     0  0.000000\n",
      "29                 10     0  0.000000\n",
      "28                  8     0  0.000000\n",
      "27                 11     0  0.000000\n",
      "26                  8     0  0.000000\n",
      "25                  8     0  0.000000\n",
      "24                 15     0  0.000000\n",
      "21                 24     0  0.000000\n",
      "20                 30     0  0.000000\n",
      "19                 26     0  0.000000\n",
      "18                 33     0  0.000000\n",
      "16                 51     0  0.000000\n",
      "56                  1     0  0.000000\n"
     ]
    }
   ],
   "source": [
    "temp = pd.crosstab(df['no_of_contacts'],df['target']) \n",
    "temp['ratio'] = temp['yes']/temp['no']\n",
    "print(temp.sort_values(by = ['ratio'], ascending = False))"
   ]
  },
  {
   "cell_type": "code",
   "execution_count": 139,
   "metadata": {},
   "outputs": [
    {
     "name": "stdout",
     "output_type": "stream",
     "text": [
      "target            no   yes     ratio\n",
      "no_of_contacts                      \n",
      "(1, 2]          9359  1211  0.129394\n",
      "(2, 3]          4767   574  0.120411\n",
      "(3, 4]          2402   249  0.103664\n",
      "(5, 6]           904    75  0.082965\n",
      "(4, 5]          1479   120  0.081136\n",
      "(6, 7]           591    38  0.064298\n",
      "(8, 9]           266    17  0.063910\n",
      "(9, 10]          213    12  0.056338\n",
      "(7, 8]           383    17  0.044386\n",
      "(10, 20]         686    26  0.037901\n",
      "(20, 25]          79     1  0.012658\n",
      "(25, 55]          76     0  0.000000\n",
      "(55, 60]           1     0  0.000000\n"
     ]
    }
   ],
   "source": [
    "temp =pd.crosstab(pd.cut(df['no_of_contacts'],bins=[1,2,3,4,5,6,7,8,9,10,20,25,55,60,100]),df['target']) # hence we will create a new feature out of this variable\n",
    "temp['ratio'] = temp['yes']/temp['no']\n",
    "print(temp.sort_values(by = ['ratio'], ascending = False))"
   ]
  },
  {
   "cell_type": "code",
   "execution_count": 146,
   "metadata": {},
   "outputs": [
    {
     "name": "stdout",
     "output_type": "stream",
     "text": [
      "target                    no   yes     ratio\n",
      "time_between_contacts                       \n",
      "(25, 55]                   0     2       inf\n",
      "(20, 25]                   1     5  5.000000\n",
      "(5, 6]                   123   289  2.349593\n",
      "(2, 3]                   141   298  2.113475\n",
      "(6, 7]                    20    40  2.000000\n",
      "(7, 8]                     6    12  2.000000\n",
      "(4, 5]                    17    29  1.705882\n",
      "(1, 2]                    24    37  1.541667\n",
      "(9, 10]                   22    30  1.363636\n",
      "(10, 20]                  87   109  1.252874\n",
      "(8, 9]                    29    35  1.206897\n",
      "(3, 4]                    55    63  1.145455\n",
      "(100, 1000]            36000  3673  0.102028\n"
     ]
    }
   ],
   "source": [
    "temp =pd.crosstab(pd.cut(df['time_between_contacts'],bins=[1,2,3,4,5,6,7,8,9,10,20,25,55,60,100,1000]),df['target']) # hence we will create a new feature out of this variable\n",
    "temp['ratio'] = temp['yes']/temp['no']\n",
    "print(temp.sort_values(by = ['ratio'], ascending = False))"
   ]
  },
  {
   "cell_type": "code",
   "execution_count": 144,
   "metadata": {},
   "outputs": [
    {
     "data": {
      "text/plain": [
       "999    39673\n",
       "3        439\n",
       "6        412\n",
       "4        118\n",
       "9         64\n",
       "2         61\n",
       "7         60\n",
       "12        58\n",
       "10        52\n",
       "5         46\n",
       "13        36\n",
       "11        28\n",
       "1         26\n",
       "15        24\n",
       "14        20\n",
       "8         18\n",
       "0         15\n",
       "16        11\n",
       "17         8\n",
       "18         7\n",
       "19         3\n",
       "22         3\n",
       "21         2\n",
       "26         1\n",
       "20         1\n",
       "25         1\n",
       "27         1\n",
       "Name: time_between_contacts, dtype: int64"
      ]
     },
     "execution_count": 144,
     "metadata": {},
     "output_type": "execute_result"
    }
   ],
   "source": [
    "df['time_between_contacts'].value_counts()"
   ]
  },
  {
   "cell_type": "code",
   "execution_count": 149,
   "metadata": {},
   "outputs": [
    {
     "name": "stdout",
     "output_type": "stream",
     "text": [
      "target                      no   yes     ratio\n",
      "previous_no_of_contacts                       \n",
      "5                            5    13  2.600000\n",
      "6                            2     3  1.500000\n",
      "3                           88   128  1.454545\n",
      "4                           32    38  1.187500\n",
      "2                          404   350  0.866337\n",
      "1                         3594   967  0.269060\n",
      "0                        32422  3141  0.096879\n",
      "7                            1     0  0.000000\n"
     ]
    }
   ],
   "source": [
    "temp =pd.crosstab(df['previous_no_of_contacts'],df['target']) # hence we will create a new feature out of this variable\n",
    "temp['ratio'] = temp['yes']/temp['no']\n",
    "print(temp.sort_values(by = ['ratio'], ascending = False))"
   ]
  },
  {
   "cell_type": "code",
   "execution_count": 150,
   "metadata": {},
   "outputs": [
    {
     "name": "stdout",
     "output_type": "stream",
     "text": [
      "target           no   yes     ratio\n",
      "prev_outcome                       \n",
      "success         479   894  1.866388\n",
      "failure        3647   605  0.165890\n",
      "nonexistent   32422  3141  0.096879\n"
     ]
    }
   ],
   "source": [
    "temp =pd.crosstab(df['prev_outcome'],df['target']) # hence we will create a new feature out of this variable\n",
    "temp['ratio'] = temp['yes']/temp['no']\n",
    "print(temp.sort_values(by = ['ratio'], ascending = False))"
   ]
  },
  {
   "cell_type": "code",
   "execution_count": 154,
   "metadata": {},
   "outputs": [
    {
     "name": "stdout",
     "output_type": "stream",
     "text": [
      "target           no   yes     ratio\n",
      "emp_var_rate                       \n",
      "(-3, -2]       1069   594  0.555659\n",
      "(-2, -1]       8427  2165  0.256912\n",
      "(-1, 0]        3460   233  0.067341\n",
      "(1, 2]        22891  1106  0.048316\n"
     ]
    }
   ],
   "source": [
    "temp =pd.crosstab(pd.cut(df['emp_var_rate'],bins=[-3,-2,-1,0,1,2,3,4,5,6,7,8,9,10,20,25,55,60,100,1000]),df['target']) # hence we will create a new feature out of this variable\n",
    "temp['ratio'] = temp['yes']/temp['no']\n",
    "print(temp.sort_values(by = ['ratio'], ascending = False))"
   ]
  },
  {
   "cell_type": "code",
   "execution_count": 191,
   "metadata": {},
   "outputs": [
    {
     "data": {
      "image/png": "[encoded data removed]",
      "text/plain": [
       "<Figure size 720x576 with 1 Axes>"
      ]
     },
     "metadata": {
      "needs_background": "light"
     },
     "output_type": "display_data"
    }
   ],
   "source": [
    "fig, ax = plt.subplots()\n",
    "fig.set_size_inches(10, 8)\n",
    "sns.countplot(x = 'emp_var_rate', data = df)\n",
    "ax.set_xlabel('emp_var_rate', fontsize=15)\n",
    "ax.set_ylabel('Count', fontsize=15)\n",
    "ax.set_title('EMP Variable Rate Distribution', fontsize=15)\n",
    "sns.despine()"
   ]
  },
  {
   "cell_type": "code",
   "execution_count": 158,
   "metadata": {},
   "outputs": [
    {
     "data": {
      "text/html": [
       "<div>\n",
       "<style scoped>\n",
       "    .dataframe tbody tr th:only-of-type {\n",
       "        vertical-align: middle;\n",
       "    }\n",
       "\n",
       "    .dataframe tbody tr th {\n",
       "        vertical-align: top;\n",
       "    }\n",
       "\n",
       "    .dataframe thead th {\n",
       "        text-align: right;\n",
       "    }\n",
       "</style>\n",
       "<table border=\"1\" class=\"dataframe\">\n",
       "  <thead>\n",
       "    <tr style=\"text-align: right;\">\n",
       "      <th></th>\n",
       "      <th>age</th>\n",
       "      <th>last_contact_duration</th>\n",
       "      <th>no_of_contacts</th>\n",
       "      <th>time_between_contacts</th>\n",
       "      <th>previous_no_of_contacts</th>\n",
       "      <th>emp_var_rate</th>\n",
       "      <th>consumer_price_index</th>\n",
       "      <th>consumer_conf_index</th>\n",
       "      <th>euribor_3month_rate</th>\n",
       "      <th>num_of_employed</th>\n",
       "    </tr>\n",
       "  </thead>\n",
       "  <tbody>\n",
       "    <tr>\n",
       "      <th>age</th>\n",
       "      <td>1.000000</td>\n",
       "      <td>-0.000866</td>\n",
       "      <td>0.004594</td>\n",
       "      <td>-0.034369</td>\n",
       "      <td>0.024365</td>\n",
       "      <td>-0.000371</td>\n",
       "      <td>0.000857</td>\n",
       "      <td>0.129372</td>\n",
       "      <td>0.010767</td>\n",
       "      <td>-0.017725</td>\n",
       "    </tr>\n",
       "    <tr>\n",
       "      <th>last_contact_duration</th>\n",
       "      <td>-0.000866</td>\n",
       "      <td>1.000000</td>\n",
       "      <td>-0.071699</td>\n",
       "      <td>-0.047577</td>\n",
       "      <td>0.020640</td>\n",
       "      <td>-0.027968</td>\n",
       "      <td>0.005312</td>\n",
       "      <td>-0.008173</td>\n",
       "      <td>-0.032897</td>\n",
       "      <td>-0.044703</td>\n",
       "    </tr>\n",
       "    <tr>\n",
       "      <th>no_of_contacts</th>\n",
       "      <td>0.004594</td>\n",
       "      <td>-0.071699</td>\n",
       "      <td>1.000000</td>\n",
       "      <td>0.052584</td>\n",
       "      <td>-0.079141</td>\n",
       "      <td>0.150754</td>\n",
       "      <td>0.127836</td>\n",
       "      <td>-0.013733</td>\n",
       "      <td>0.135133</td>\n",
       "      <td>0.144095</td>\n",
       "    </tr>\n",
       "    <tr>\n",
       "      <th>time_between_contacts</th>\n",
       "      <td>-0.034369</td>\n",
       "      <td>-0.047577</td>\n",
       "      <td>0.052584</td>\n",
       "      <td>1.000000</td>\n",
       "      <td>-0.587514</td>\n",
       "      <td>0.271004</td>\n",
       "      <td>0.078889</td>\n",
       "      <td>-0.091342</td>\n",
       "      <td>0.296899</td>\n",
       "      <td>0.372605</td>\n",
       "    </tr>\n",
       "    <tr>\n",
       "      <th>previous_no_of_contacts</th>\n",
       "      <td>0.024365</td>\n",
       "      <td>0.020640</td>\n",
       "      <td>-0.079141</td>\n",
       "      <td>-0.587514</td>\n",
       "      <td>1.000000</td>\n",
       "      <td>-0.420489</td>\n",
       "      <td>-0.203130</td>\n",
       "      <td>-0.050936</td>\n",
       "      <td>-0.454494</td>\n",
       "      <td>-0.501333</td>\n",
       "    </tr>\n",
       "    <tr>\n",
       "      <th>emp_var_rate</th>\n",
       "      <td>-0.000371</td>\n",
       "      <td>-0.027968</td>\n",
       "      <td>0.150754</td>\n",
       "      <td>0.271004</td>\n",
       "      <td>-0.420489</td>\n",
       "      <td>1.000000</td>\n",
       "      <td>0.775334</td>\n",
       "      <td>0.196041</td>\n",
       "      <td>0.972245</td>\n",
       "      <td>0.906970</td>\n",
       "    </tr>\n",
       "    <tr>\n",
       "      <th>consumer_price_index</th>\n",
       "      <td>0.000857</td>\n",
       "      <td>0.005312</td>\n",
       "      <td>0.127836</td>\n",
       "      <td>0.078889</td>\n",
       "      <td>-0.203130</td>\n",
       "      <td>0.775334</td>\n",
       "      <td>1.000000</td>\n",
       "      <td>0.058986</td>\n",
       "      <td>0.688230</td>\n",
       "      <td>0.522034</td>\n",
       "    </tr>\n",
       "    <tr>\n",
       "      <th>consumer_conf_index</th>\n",
       "      <td>0.129372</td>\n",
       "      <td>-0.008173</td>\n",
       "      <td>-0.013733</td>\n",
       "      <td>-0.091342</td>\n",
       "      <td>-0.050936</td>\n",
       "      <td>0.196041</td>\n",
       "      <td>0.058986</td>\n",
       "      <td>1.000000</td>\n",
       "      <td>0.277686</td>\n",
       "      <td>0.100513</td>\n",
       "    </tr>\n",
       "    <tr>\n",
       "      <th>euribor_3month_rate</th>\n",
       "      <td>0.010767</td>\n",
       "      <td>-0.032897</td>\n",
       "      <td>0.135133</td>\n",
       "      <td>0.296899</td>\n",
       "      <td>-0.454494</td>\n",
       "      <td>0.972245</td>\n",
       "      <td>0.688230</td>\n",
       "      <td>0.277686</td>\n",
       "      <td>1.000000</td>\n",
       "      <td>0.945154</td>\n",
       "    </tr>\n",
       "    <tr>\n",
       "      <th>num_of_employed</th>\n",
       "      <td>-0.017725</td>\n",
       "      <td>-0.044703</td>\n",
       "      <td>0.144095</td>\n",
       "      <td>0.372605</td>\n",
       "      <td>-0.501333</td>\n",
       "      <td>0.906970</td>\n",
       "      <td>0.522034</td>\n",
       "      <td>0.100513</td>\n",
       "      <td>0.945154</td>\n",
       "      <td>1.000000</td>\n",
       "    </tr>\n",
       "  </tbody>\n",
       "</table>\n",
       "</div>"
      ],
      "text/plain": [
       "                              age  last_contact_duration  no_of_contacts  \\\n",
       "age                      1.000000              -0.000866        0.004594   \n",
       "last_contact_duration   -0.000866               1.000000       -0.071699   \n",
       "no_of_contacts           0.004594              -0.071699        1.000000   \n",
       "time_between_contacts   -0.034369              -0.047577        0.052584   \n",
       "previous_no_of_contacts  0.024365               0.020640       -0.079141   \n",
       "emp_var_rate            -0.000371              -0.027968        0.150754   \n",
       "consumer_price_index     0.000857               0.005312        0.127836   \n",
       "consumer_conf_index      0.129372              -0.008173       -0.013733   \n",
       "euribor_3month_rate      0.010767              -0.032897        0.135133   \n",
       "num_of_employed         -0.017725              -0.044703        0.144095   \n",
       "\n",
       "                         time_between_contacts  previous_no_of_contacts  \\\n",
       "age                                  -0.034369                 0.024365   \n",
       "last_contact_duration                -0.047577                 0.020640   \n",
       "no_of_contacts                        0.052584                -0.079141   \n",
       "time_between_contacts                 1.000000                -0.587514   \n",
       "previous_no_of_contacts              -0.587514                 1.000000   \n",
       "emp_var_rate                          0.271004                -0.420489   \n",
       "consumer_price_index                  0.078889                -0.203130   \n",
       "consumer_conf_index                  -0.091342                -0.050936   \n",
       "euribor_3month_rate                   0.296899                -0.454494   \n",
       "num_of_employed                       0.372605                -0.501333   \n",
       "\n",
       "                         emp_var_rate  consumer_price_index  \\\n",
       "age                         -0.000371              0.000857   \n",
       "last_contact_duration       -0.027968              0.005312   \n",
       "no_of_contacts               0.150754              0.127836   \n",
       "time_between_contacts        0.271004              0.078889   \n",
       "previous_no_of_contacts     -0.420489             -0.203130   \n",
       "emp_var_rate                 1.000000              0.775334   \n",
       "consumer_price_index         0.775334              1.000000   \n",
       "consumer_conf_index          0.196041              0.058986   \n",
       "euribor_3month_rate          0.972245              0.688230   \n",
       "num_of_employed              0.906970              0.522034   \n",
       "\n",
       "                         consumer_conf_index  euribor_3month_rate  \\\n",
       "age                                 0.129372             0.010767   \n",
       "last_contact_duration              -0.008173            -0.032897   \n",
       "no_of_contacts                     -0.013733             0.135133   \n",
       "time_between_contacts              -0.091342             0.296899   \n",
       "previous_no_of_contacts            -0.050936            -0.454494   \n",
       "emp_var_rate                        0.196041             0.972245   \n",
       "consumer_price_index                0.058986             0.688230   \n",
       "consumer_conf_index                 1.000000             0.277686   \n",
       "euribor_3month_rate                 0.277686             1.000000   \n",
       "num_of_employed                     0.100513             0.945154   \n",
       "\n",
       "                         num_of_employed  \n",
       "age                            -0.017725  \n",
       "last_contact_duration          -0.044703  \n",
       "no_of_contacts                  0.144095  \n",
       "time_between_contacts           0.372605  \n",
       "previous_no_of_contacts        -0.501333  \n",
       "emp_var_rate                    0.906970  \n",
       "consumer_price_index            0.522034  \n",
       "consumer_conf_index             0.100513  \n",
       "euribor_3month_rate             0.945154  \n",
       "num_of_employed                 1.000000  "
      ]
     },
     "execution_count": 158,
     "metadata": {},
     "output_type": "execute_result"
    }
   ],
   "source": [
    "df.corr()"
   ]
  },
  {
   "cell_type": "code",
   "execution_count": 192,
   "metadata": {},
   "outputs": [
    {
     "data": {
      "image/png": "[encoded data removed]",
      "text/plain": [
       "<Figure size 720x576 with 1 Axes>"
      ]
     },
     "metadata": {
      "needs_background": "light"
     },
     "output_type": "display_data"
    }
   ],
   "source": [
    "fig, ax = plt.subplots()\n",
    "fig.set_size_inches(10, 8)\n",
    "sns.countplot(x = 'consumer_price_index', data = df)\n",
    "ax.set_xlabel('emp_var_rate', fontsize=15)\n",
    "ax.set_ylabel('Count', fontsize=15)\n",
    "ax.set_title('EMP Variable Rate Distribution', fontsize=15)\n",
    "sns.despine()"
   ]
  },
  {
   "cell_type": "code",
   "execution_count": 194,
   "metadata": {},
   "outputs": [
    {
     "data": {
      "text/plain": [
       "<matplotlib.axes._subplots.AxesSubplot at 0x7f72387baeb8>"
      ]
     },
     "execution_count": 194,
     "metadata": {},
     "output_type": "execute_result"
    },
    {
     "data": {
      "image/png": "[encoded data removed]",
      "text/plain": [
       "<Figure size 432x288 with 1 Axes>"
      ]
     },
     "metadata": {
      "needs_background": "light"
     },
     "output_type": "display_data"
    }
   ],
   "source": [
    "sns.lineplot(df['consumer_price_index'],df['emp_var_rate'])"
   ]
  },
  {
   "cell_type": "code",
   "execution_count": 205,
   "metadata": {},
   "outputs": [
    {
     "data": {
      "image/png": "[encoded data removed]",
      "text/plain": [
       "<Figure size 720x576 with 1 Axes>"
      ]
     },
     "metadata": {},
     "output_type": "display_data"
    }
   ],
   "source": [
    "fig, ax = plt.subplots()\n",
    "fig.set_size_inches(10, 8)\n",
    "sns.countplot(x = 'emp_var_rate', data = df)\n",
    "ax.set_xlabel('consumer_price_index', fontsize=15)\n",
    "ax.set_ylabel('Count', fontsize=15)\n",
    "ax.set_title('EMP Variable Rate Distribution', fontsize=15)\n",
    "sns.despine()"
   ]
  },
  {
   "cell_type": "code",
   "execution_count": 207,
   "metadata": {},
   "outputs": [
    {
     "name": "stdout",
     "output_type": "stream",
     "text": [
      "target           no   yes     ratio\n",
      "emp_var_rate                       \n",
      "-1.7            370   403  1.089189\n",
      "-3.0             84    88  1.047619\n",
      "-1.1            334   301  0.901198\n",
      "-3.4            617   454  0.735818\n",
      "-2.9           1069   594  0.555659\n",
      "-1.8           7723  1461  0.189175\n",
      "-0.2              9     1  0.111111\n",
      "-0.1           3451   232  0.067227\n",
      " 1.4          15368   866  0.056351\n",
      " 1.1           7523   240  0.031902\n"
     ]
    }
   ],
   "source": [
    "temp = pd.crosstab(df['emp_var_rate'],df['target']) \n",
    "temp['ratio'] = temp['yes']/temp['no']\n",
    "print(temp.sort_values(by = ['ratio'], ascending = False))"
   ]
  },
  {
   "cell_type": "code",
   "execution_count": 208,
   "metadata": {},
   "outputs": [
    {
     "name": "stdout",
     "output_type": "stream",
     "text": [
      "target                  no  yes     ratio\n",
      "consumer_price_index                     \n",
      "93.798                  25   42  1.680000\n",
      "93.876                  90  122  1.355556\n",
      "93.369                 114  150  1.315789\n",
      "94.215                 135  176  1.303704\n",
      "93.749                  77   97  1.259740\n",
      "94.027                 113  120  1.061947\n",
      "92.713                  84   88  1.047619\n",
      "94.199                 153  150  0.980392\n",
      "92.649                 189  168  0.888889\n",
      "94.055                 122  107  0.877049\n",
      "94.601                 111   93  0.837838\n",
      "94.767                  70   58  0.828571\n",
      "92.843                 156  126  0.807692\n",
      "92.431                 267  180  0.674157\n",
      "92.379                 161  106  0.658385\n",
      "92.469                 112   66  0.589286\n",
      "92.963                 451  264  0.585366\n",
      "92.201                 506  264  0.521739\n",
      "93.075                2016  442  0.219246\n",
      "92.756                   9    1  0.111111\n",
      "92.893                5270  524  0.099431\n",
      "93.918                6278  407  0.064830\n",
      "93.200                3426  190  0.055458\n",
      "93.444                4904  271  0.055261\n",
      "94.465                4186  188  0.044912\n",
      "93.994                7523  240  0.031902\n"
     ]
    }
   ],
   "source": [
    "temp = pd.crosstab(df['consumer_price_index'],df['target']) \n",
    "temp['ratio'] = temp['yes']/temp['no']\n",
    "print(temp.sort_values(by = ['ratio'], ascending = False))"
   ]
  },
  {
   "cell_type": "code",
   "execution_count": 209,
   "metadata": {},
   "outputs": [
    {
     "name": "stdout",
     "output_type": "stream",
     "text": [
      "target                 no  yes     ratio\n",
      "consumer_conf_index                     \n",
      "-40.4                  25   42  1.680000\n",
      "-40.0                  90  122  1.355556\n",
      "-34.8                 114  150  1.315789\n",
      "-40.3                 135  176  1.303704\n",
      "-34.6                  77   97  1.259740\n",
      "-38.3                 113  120  1.061947\n",
      "-33.0                  84   88  1.047619\n",
      "-37.5                 153  150  0.980392\n",
      "-30.1                 189  168  0.888889\n",
      "-39.8                 122  107  0.877049\n",
      "-49.5                 111   93  0.837838\n",
      "-50.8                  70   58  0.828571\n",
      "-50.0                 156  126  0.807692\n",
      "-26.9                 267  180  0.674157\n",
      "-29.8                 161  106  0.658385\n",
      "-33.6                 112   66  0.589286\n",
      "-40.8                 451  264  0.585366\n",
      "-31.4                 506  264  0.521739\n",
      "-47.1                2016  442  0.219246\n",
      "-45.9                   9    1  0.111111\n",
      "-46.2                5270  524  0.099431\n",
      "-42.7                6278  407  0.064830\n",
      "-42.0                3426  190  0.055458\n",
      "-36.1                4904  271  0.055261\n",
      "-41.8                4186  188  0.044912\n",
      "-36.4                7523  240  0.031902\n"
     ]
    }
   ],
   "source": [
    "temp = pd.crosstab(df['consumer_conf_index'],df['target']) \n",
    "temp['ratio'] = temp['yes']/temp['no']\n",
    "print(temp.sort_values(by = ['ratio'], ascending = False))"
   ]
  },
  {
   "cell_type": "code",
   "execution_count": 210,
   "metadata": {},
   "outputs": [
    {
     "name": "stdout",
     "output_type": "stream",
     "text": [
      "target                no  yes      ratio\n",
      "euribor_3month_rate                     \n",
      "3.053                  0    1        inf\n",
      "0.688                  0    3        inf\n",
      "0.933                  0    1        inf\n",
      "0.870                  1   12  12.000000\n",
      "0.885                  1    9   9.000000\n",
      "0.755                  1    6   6.000000\n",
      "4.936                  1    5   5.000000\n",
      "0.637                  1    5   5.000000\n",
      "1.548                  1    5   5.000000\n",
      "0.697                  4   19   4.750000\n",
      "1.726                  2    9   4.500000\n",
      "4.794                  1    4   4.000000\n",
      "0.683                  3   11   3.666667\n",
      "0.652                  8   27   3.375000\n",
      "0.762                  1    3   3.000000\n",
      "0.634                  2    6   3.000000\n",
      "4.223                  1    3   3.000000\n",
      "0.900                  7   20   2.857143\n",
      "0.733                  5   13   2.600000\n",
      "0.802                  2    5   2.500000\n",
      "0.985                  2    5   2.500000\n",
      "1.799                  4   10   2.500000\n",
      "1.025                  4   10   2.500000\n",
      "0.704                  2    5   2.500000\n",
      "0.638                  2    5   2.500000\n",
      "1.035                  2    5   2.500000\n",
      "0.655                 10   24   2.400000\n",
      "0.905                  5   12   2.400000\n",
      "0.695                  3    7   2.333333\n",
      "0.899                 15   35   2.333333\n",
      "...                  ...  ...        ...\n",
      "4.970                168    4   0.023810\n",
      "4.956                 23    0   0.000000\n",
      "1.045                  1    0   0.000000\n",
      "0.888                  5    0   0.000000\n",
      "3.669                  1    0   0.000000\n",
      "0.996                  1    0   0.000000\n",
      "0.979                  3    0   0.000000\n",
      "0.969                  1    0   0.000000\n",
      "0.956                  1    0   0.000000\n",
      "0.953                  2    0   0.000000\n",
      "0.942                  7    0   0.000000\n",
      "3.282                  1    0   0.000000\n",
      "3.329                  1    0   0.000000\n",
      "3.428                  1    0   0.000000\n",
      "3.488                  1    0   0.000000\n",
      "3.563                  2    0   0.000000\n",
      "3.743                  1    0   0.000000\n",
      "1.047                  1    0   0.000000\n",
      "3.816                  1    0   0.000000\n",
      "3.853                  1    0   0.000000\n",
      "3.879                  2    0   0.000000\n",
      "3.901                  1    0   0.000000\n",
      "0.937                  2    0   0.000000\n",
      "1.574                  1    0   0.000000\n",
      "0.927                  2    0   0.000000\n",
      "0.914                  3    0   0.000000\n",
      "0.894                  3    0   0.000000\n",
      "0.891                  4    0   0.000000\n",
      "0.890                  8    0   0.000000\n",
      "4.733                  2    0   0.000000\n",
      "\n",
      "[316 rows x 3 columns]\n"
     ]
    }
   ],
   "source": [
    "temp = pd.crosstab(df['euribor_3month_rate'],df['target']) \n",
    "temp['ratio'] = temp['yes']/temp['no']\n",
    "print(temp.sort_values(by = ['ratio'], ascending = False))"
   ]
  },
  {
   "cell_type": "code",
   "execution_count": null,
   "metadata": {},
   "outputs": [],
   "source": []
  },
  {
   "cell_type": "code",
   "execution_count": null,
   "metadata": {},
   "outputs": [],
   "source": []
  },
  {
   "cell_type": "code",
   "execution_count": 159,
   "metadata": {},
   "outputs": [],
   "source": [
    "numeric_df = df[['age','emp_var_rate','consumer_price_index','consumer_conf_index',\n",
    "                 'euribor_3month_rate','num_of_employed','last_contact_day_of_week' ]]"
   ]
  },
  {
   "cell_type": "code",
   "execution_count": 171,
   "metadata": {},
   "outputs": [
    {
     "data": {
      "text/plain": [
       "['age',\n",
       " 'job',\n",
       " 'marital',\n",
       " 'education',\n",
       " 'credit_default',\n",
       " 'housing_loan',\n",
       " 'personal_loan',\n",
       " 'contact_type',\n",
       " 'last_contact_month',\n",
       " 'last_contact_day_of_week',\n",
       " 'last_contact_duration',\n",
       " 'no_of_contacts',\n",
       " 'time_between_contacts',\n",
       " 'previous_no_of_contacts',\n",
       " 'prev_outcome',\n",
       " 'emp_var_rate',\n",
       " 'consumer_price_index',\n",
       " 'consumer_conf_index',\n",
       " 'euribor_3month_rate',\n",
       " 'num_of_employed',\n",
       " 'target']"
      ]
     },
     "execution_count": 171,
     "metadata": {},
     "output_type": "execute_result"
    }
   ],
   "source": [
    "list(df)"
   ]
  },
  {
   "cell_type": "code",
   "execution_count": 162,
   "metadata": {},
   "outputs": [
    {
     "data": {
      "text/plain": [
       "age                           int64\n",
       "job                          object\n",
       "marital                      object\n",
       "education                    object\n",
       "credit_default               object\n",
       "housing_loan                 object\n",
       "personal_loan                object\n",
       "contact_type                 object\n",
       "last_contact_month           object\n",
       "last_contact_day_of_week     object\n",
       "last_contact_duration         int64\n",
       "no_of_contacts                int64\n",
       "time_between_contacts         int64\n",
       "previous_no_of_contacts       int64\n",
       "prev_outcome                 object\n",
       "emp_var_rate                float64\n",
       "consumer_price_index        float64\n",
       "consumer_conf_index         float64\n",
       "euribor_3month_rate         float64\n",
       "num_of_employed             float64\n",
       "target                       object\n",
       "dtype: object"
      ]
     },
     "execution_count": 162,
     "metadata": {},
     "output_type": "execute_result"
    }
   ],
   "source": [
    "df.dtypes"
   ]
  },
  {
   "cell_type": "code",
   "execution_count": 167,
   "metadata": {},
   "outputs": [
    {
     "name": "stdout",
     "output_type": "stream",
     "text": [
      "1st Quartile:  1.0\n",
      "2nd Quartile:  2.0\n",
      "3rd Quartile:  3.0\n",
      "4th Quartile:  56.0\n",
      "IQR:  2.0\n",
      "Ages above:  6.0 are outliers\n",
      "Ages below:  -2.0 are outliers\n",
      "There are 2406 outliers in  no_of_contacts\n"
     ]
    }
   ],
   "source": [
    "# outlier detection code\n",
    "col = 'no_of_contacts'\n",
    "Q1=df[col].quantile(q = 0.25)\n",
    "Q2=df[col].quantile(q = 0.50)\n",
    "Q3=df[col].quantile(q = 0.75)\n",
    "Q4=df[col].quantile(q = 1.00)                        \n",
    "\n",
    "IQR= Q3-Q1\n",
    "\n",
    "print('1st Quartile: ', Q1)\n",
    "print('2nd Quartile: ', Q2)\n",
    "print('3rd Quartile: ', Q3)\n",
    "print('4th Quartile: ', Q4)\n",
    "print('IQR: ',IQR)\n",
    "\n",
    "\n",
    "print('Ages above: ', Q3 + 1.5*(IQR), 'are outliers')\n",
    "print('Ages below: ', Q1 - 1.5*(IQR), 'are outliers')\n",
    "print('There are',sum((df[col]>(Q3 + 1.5*(IQR))) | (df[col] < (Q1 - 1.5*(IQR)))),\"outliers in \", col)"
   ]
  },
  {
   "cell_type": "code",
   "execution_count": 186,
   "metadata": {},
   "outputs": [
    {
     "name": "stdout",
     "output_type": "stream",
     "text": [
      "The Range for age is 9.5 to 69.5\n",
      "There are 469 outliers in  age\n",
      "The Range for last_contact_duration is -223.5 to 644.5\n",
      "There are 2963 outliers in  last_contact_duration\n",
      "The Range for no_of_contacts is -2.0 to 6.0\n",
      "There are 2406 outliers in  no_of_contacts\n",
      "The Range for time_between_contacts is 999.0 to 999.0\n",
      "There are 1515 outliers in  time_between_contacts\n",
      "The Range for previous_no_of_contacts is 0.0 to 0.0\n",
      "There are 5625 outliers in  previous_no_of_contacts\n",
      "The Range for emp_var_rate is -6.6000000000000005 to 6.200000000000001\n",
      "There are 0 outliers in  emp_var_rate\n",
      "The Range for consumer_price_index is 91.69650000000001 to 95.3725\n",
      "There are 0 outliers in  consumer_price_index\n",
      "The Range for consumer_conf_index is -52.150000000000006 to -26.949999999999992\n",
      "There are 447 outliers in  consumer_conf_index\n",
      "The Range for euribor_3month_rate is -4.081499999999999 to 10.3865\n",
      "There are 0 outliers in  euribor_3month_rate\n",
      "The Range for num_of_employed is 4905.6 to 5421.6\n",
      "There are 0 outliers in  num_of_employed\n"
     ]
    }
   ],
   "source": [
    "numeric_cols = ['age',\n",
    " 'last_contact_duration',\n",
    " 'no_of_contacts',\n",
    " 'time_between_contacts',\n",
    " 'previous_no_of_contacts',\n",
    " 'emp_var_rate',\n",
    " 'consumer_price_index',\n",
    " 'consumer_conf_index',\n",
    " 'euribor_3month_rate',\n",
    " 'num_of_employed']\n",
    "for col in numeric_cols:\n",
    "\n",
    "    Q1=df[col].quantile(q = 0.25)\n",
    "    Q2=df[col].quantile(q = 0.50)\n",
    "    Q3=df[col].quantile(q = 0.75)\n",
    "    Q4=df[col].quantile(q = 1.00)                        \n",
    "\n",
    "    IQR= Q3-Q1\n",
    "    print('The Range for',col ,'is', Q1 - 1.5*(IQR), 'to', Q3 + 1.5*(IQR))\n",
    "    print('There are',sum((df[col]>(Q3 + 1.5*(IQR))) | (df[col] < (Q1 - 1.5*(IQR)))),\"outliers in \", col)"
   ]
  },
  {
   "cell_type": "code",
   "execution_count": 197,
   "metadata": {},
   "outputs": [],
   "source": [
    "numeric_df = df[['age',\n",
    " 'last_contact_duration',\n",
    " 'no_of_contacts',\n",
    " 'time_between_contacts',\n",
    " 'previous_no_of_contacts',\n",
    " 'emp_var_rate',\n",
    " 'consumer_price_index',\n",
    " 'consumer_conf_index',\n",
    " 'euribor_3month_rate',\n",
    " 'num_of_employed']]"
   ]
  },
  {
   "cell_type": "code",
   "execution_count": 198,
   "metadata": {},
   "outputs": [
    {
     "data": {
      "text/html": [
       "<div>\n",
       "<style scoped>\n",
       "    .dataframe tbody tr th:only-of-type {\n",
       "        vertical-align: middle;\n",
       "    }\n",
       "\n",
       "    .dataframe tbody tr th {\n",
       "        vertical-align: top;\n",
       "    }\n",
       "\n",
       "    .dataframe thead th {\n",
       "        text-align: right;\n",
       "    }\n",
       "</style>\n",
       "<table border=\"1\" class=\"dataframe\">\n",
       "  <thead>\n",
       "    <tr style=\"text-align: right;\">\n",
       "      <th></th>\n",
       "      <th>age</th>\n",
       "      <th>last_contact_duration</th>\n",
       "      <th>no_of_contacts</th>\n",
       "      <th>time_between_contacts</th>\n",
       "      <th>previous_no_of_contacts</th>\n",
       "      <th>emp_var_rate</th>\n",
       "      <th>consumer_price_index</th>\n",
       "      <th>consumer_conf_index</th>\n",
       "      <th>euribor_3month_rate</th>\n",
       "      <th>num_of_employed</th>\n",
       "    </tr>\n",
       "  </thead>\n",
       "  <tbody>\n",
       "    <tr>\n",
       "      <th>age</th>\n",
       "      <td>1.000000</td>\n",
       "      <td>-0.000866</td>\n",
       "      <td>0.004594</td>\n",
       "      <td>-0.034369</td>\n",
       "      <td>0.024365</td>\n",
       "      <td>-0.000371</td>\n",
       "      <td>0.000857</td>\n",
       "      <td>0.129372</td>\n",
       "      <td>0.010767</td>\n",
       "      <td>-0.017725</td>\n",
       "    </tr>\n",
       "    <tr>\n",
       "      <th>last_contact_duration</th>\n",
       "      <td>-0.000866</td>\n",
       "      <td>1.000000</td>\n",
       "      <td>-0.071699</td>\n",
       "      <td>-0.047577</td>\n",
       "      <td>0.020640</td>\n",
       "      <td>-0.027968</td>\n",
       "      <td>0.005312</td>\n",
       "      <td>-0.008173</td>\n",
       "      <td>-0.032897</td>\n",
       "      <td>-0.044703</td>\n",
       "    </tr>\n",
       "    <tr>\n",
       "      <th>no_of_contacts</th>\n",
       "      <td>0.004594</td>\n",
       "      <td>-0.071699</td>\n",
       "      <td>1.000000</td>\n",
       "      <td>0.052584</td>\n",
       "      <td>-0.079141</td>\n",
       "      <td>0.150754</td>\n",
       "      <td>0.127836</td>\n",
       "      <td>-0.013733</td>\n",
       "      <td>0.135133</td>\n",
       "      <td>0.144095</td>\n",
       "    </tr>\n",
       "    <tr>\n",
       "      <th>time_between_contacts</th>\n",
       "      <td>-0.034369</td>\n",
       "      <td>-0.047577</td>\n",
       "      <td>0.052584</td>\n",
       "      <td>1.000000</td>\n",
       "      <td>-0.587514</td>\n",
       "      <td>0.271004</td>\n",
       "      <td>0.078889</td>\n",
       "      <td>-0.091342</td>\n",
       "      <td>0.296899</td>\n",
       "      <td>0.372605</td>\n",
       "    </tr>\n",
       "    <tr>\n",
       "      <th>previous_no_of_contacts</th>\n",
       "      <td>0.024365</td>\n",
       "      <td>0.020640</td>\n",
       "      <td>-0.079141</td>\n",
       "      <td>-0.587514</td>\n",
       "      <td>1.000000</td>\n",
       "      <td>-0.420489</td>\n",
       "      <td>-0.203130</td>\n",
       "      <td>-0.050936</td>\n",
       "      <td>-0.454494</td>\n",
       "      <td>-0.501333</td>\n",
       "    </tr>\n",
       "    <tr>\n",
       "      <th>emp_var_rate</th>\n",
       "      <td>-0.000371</td>\n",
       "      <td>-0.027968</td>\n",
       "      <td>0.150754</td>\n",
       "      <td>0.271004</td>\n",
       "      <td>-0.420489</td>\n",
       "      <td>1.000000</td>\n",
       "      <td>0.775334</td>\n",
       "      <td>0.196041</td>\n",
       "      <td>0.972245</td>\n",
       "      <td>0.906970</td>\n",
       "    </tr>\n",
       "    <tr>\n",
       "      <th>consumer_price_index</th>\n",
       "      <td>0.000857</td>\n",
       "      <td>0.005312</td>\n",
       "      <td>0.127836</td>\n",
       "      <td>0.078889</td>\n",
       "      <td>-0.203130</td>\n",
       "      <td>0.775334</td>\n",
       "      <td>1.000000</td>\n",
       "      <td>0.058986</td>\n",
       "      <td>0.688230</td>\n",
       "      <td>0.522034</td>\n",
       "    </tr>\n",
       "    <tr>\n",
       "      <th>consumer_conf_index</th>\n",
       "      <td>0.129372</td>\n",
       "      <td>-0.008173</td>\n",
       "      <td>-0.013733</td>\n",
       "      <td>-0.091342</td>\n",
       "      <td>-0.050936</td>\n",
       "      <td>0.196041</td>\n",
       "      <td>0.058986</td>\n",
       "      <td>1.000000</td>\n",
       "      <td>0.277686</td>\n",
       "      <td>0.100513</td>\n",
       "    </tr>\n",
       "    <tr>\n",
       "      <th>euribor_3month_rate</th>\n",
       "      <td>0.010767</td>\n",
       "      <td>-0.032897</td>\n",
       "      <td>0.135133</td>\n",
       "      <td>0.296899</td>\n",
       "      <td>-0.454494</td>\n",
       "      <td>0.972245</td>\n",
       "      <td>0.688230</td>\n",
       "      <td>0.277686</td>\n",
       "      <td>1.000000</td>\n",
       "      <td>0.945154</td>\n",
       "    </tr>\n",
       "    <tr>\n",
       "      <th>num_of_employed</th>\n",
       "      <td>-0.017725</td>\n",
       "      <td>-0.044703</td>\n",
       "      <td>0.144095</td>\n",
       "      <td>0.372605</td>\n",
       "      <td>-0.501333</td>\n",
       "      <td>0.906970</td>\n",
       "      <td>0.522034</td>\n",
       "      <td>0.100513</td>\n",
       "      <td>0.945154</td>\n",
       "      <td>1.000000</td>\n",
       "    </tr>\n",
       "  </tbody>\n",
       "</table>\n",
       "</div>"
      ],
      "text/plain": [
       "                              age  last_contact_duration  no_of_contacts  \\\n",
       "age                      1.000000              -0.000866        0.004594   \n",
       "last_contact_duration   -0.000866               1.000000       -0.071699   \n",
       "no_of_contacts           0.004594              -0.071699        1.000000   \n",
       "time_between_contacts   -0.034369              -0.047577        0.052584   \n",
       "previous_no_of_contacts  0.024365               0.020640       -0.079141   \n",
       "emp_var_rate            -0.000371              -0.027968        0.150754   \n",
       "consumer_price_index     0.000857               0.005312        0.127836   \n",
       "consumer_conf_index      0.129372              -0.008173       -0.013733   \n",
       "euribor_3month_rate      0.010767              -0.032897        0.135133   \n",
       "num_of_employed         -0.017725              -0.044703        0.144095   \n",
       "\n",
       "                         time_between_contacts  previous_no_of_contacts  \\\n",
       "age                                  -0.034369                 0.024365   \n",
       "last_contact_duration                -0.047577                 0.020640   \n",
       "no_of_contacts                        0.052584                -0.079141   \n",
       "time_between_contacts                 1.000000                -0.587514   \n",
       "previous_no_of_contacts              -0.587514                 1.000000   \n",
       "emp_var_rate                          0.271004                -0.420489   \n",
       "consumer_price_index                  0.078889                -0.203130   \n",
       "consumer_conf_index                  -0.091342                -0.050936   \n",
       "euribor_3month_rate                   0.296899                -0.454494   \n",
       "num_of_employed                       0.372605                -0.501333   \n",
       "\n",
       "                         emp_var_rate  consumer_price_index  \\\n",
       "age                         -0.000371              0.000857   \n",
       "last_contact_duration       -0.027968              0.005312   \n",
       "no_of_contacts               0.150754              0.127836   \n",
       "time_between_contacts        0.271004              0.078889   \n",
       "previous_no_of_contacts     -0.420489             -0.203130   \n",
       "emp_var_rate                 1.000000              0.775334   \n",
       "consumer_price_index         0.775334              1.000000   \n",
       "consumer_conf_index          0.196041              0.058986   \n",
       "euribor_3month_rate          0.972245              0.688230   \n",
       "num_of_employed              0.906970              0.522034   \n",
       "\n",
       "                         consumer_conf_index  euribor_3month_rate  \\\n",
       "age                                 0.129372             0.010767   \n",
       "last_contact_duration              -0.008173            -0.032897   \n",
       "no_of_contacts                     -0.013733             0.135133   \n",
       "time_between_contacts              -0.091342             0.296899   \n",
       "previous_no_of_contacts            -0.050936            -0.454494   \n",
       "emp_var_rate                        0.196041             0.972245   \n",
       "consumer_price_index                0.058986             0.688230   \n",
       "consumer_conf_index                 1.000000             0.277686   \n",
       "euribor_3month_rate                 0.277686             1.000000   \n",
       "num_of_employed                     0.100513             0.945154   \n",
       "\n",
       "                         num_of_employed  \n",
       "age                            -0.017725  \n",
       "last_contact_duration          -0.044703  \n",
       "no_of_contacts                  0.144095  \n",
       "time_between_contacts           0.372605  \n",
       "previous_no_of_contacts        -0.501333  \n",
       "emp_var_rate                    0.906970  \n",
       "consumer_price_index            0.522034  \n",
       "consumer_conf_index             0.100513  \n",
       "euribor_3month_rate             0.945154  \n",
       "num_of_employed                 1.000000  "
      ]
     },
     "execution_count": 198,
     "metadata": {},
     "output_type": "execute_result"
    }
   ],
   "source": [
    "numeric_df.corr()"
   ]
  },
  {
   "cell_type": "code",
   "execution_count": 199,
   "metadata": {},
   "outputs": [
    {
     "data": {
      "text/plain": [
       "<matplotlib.axes._subplots.AxesSubplot at 0x7f72386ea198>"
      ]
     },
     "execution_count": 199,
     "metadata": {},
     "output_type": "execute_result"
    },
    {
     "data": {
      "image/png": "[encoded data removed]",
      "text/plain": [
       "<Figure size 792x648 with 2 Axes>"
      ]
     },
     "metadata": {},
     "output_type": "display_data"
    }
   ],
   "source": [
    "from string import ascii_letters\n",
    "import numpy as np\n",
    "import pandas as pd\n",
    "import seaborn as sns\n",
    "import matplotlib.pyplot as plt\n",
    "\n",
    "sns.set(style=\"white\")\n",
    "\n",
    "# Generate a large random dataset\n",
    "rs = np.random.RandomState(33)\n",
    "d = pd.DataFrame(data=rs.normal(size=(100, 26)),\n",
    "                 columns=list(ascii_letters[26:]))\n",
    "\n",
    "# Compute the correlation matrix\n",
    "corr = numeric_df.corr()\n",
    "\n",
    "# Generate a mask for the upper triangle\n",
    "mask = np.zeros_like(corr, dtype=np.bool)\n",
    "mask[np.triu_indices_from(mask)] = True\n",
    "\n",
    "# Set up the matplotlib figure\n",
    "f, ax = plt.subplots(figsize=(11, 9))\n",
    "\n",
    "# Generate a custom diverging colormap\n",
    "cmap = sns.diverging_palette(220, 10, as_cmap=True)\n",
    "\n",
    "# Draw the heatmap with the mask and correct aspect ratio\n",
    "sns.heatmap(corr, mask=mask, cmap=cmap, vmax=.3, center=0,\n",
    "            square=True, linewidths=.5, cbar_kws={\"shrink\": .5})"
   ]
  },
  {
   "cell_type": "code",
   "execution_count": 200,
   "metadata": {},
   "outputs": [
    {
     "ename": "ImportError",
     "evalue": "No module named 'pandas.rpy'",
     "output_type": "error",
     "traceback": [
      "\u001b[0;31m---------------------------------------------------------------------------\u001b[0m",
      "\u001b[0;31mImportError\u001b[0m                               Traceback (most recent call last)",
      "\u001b[0;32m<ipython-input-200-5935dcd36db5>\u001b[0m in \u001b[0;36m<module>\u001b[0;34m()\u001b[0m\n\u001b[0;32m----> 1\u001b[0;31m \u001b[0;32mimport\u001b[0m \u001b[0mpandas\u001b[0m\u001b[0;34m.\u001b[0m\u001b[0mrpy\u001b[0m\u001b[0;34m.\u001b[0m\u001b[0mcommon\u001b[0m \u001b[0;32mas\u001b[0m \u001b[0mcom\u001b[0m\u001b[0;34m\u001b[0m\u001b[0m\n\u001b[0m\u001b[1;32m      2\u001b[0m \u001b[0;32mimport\u001b[0m \u001b[0mseaborn\u001b[0m \u001b[0;32mas\u001b[0m \u001b[0msns\u001b[0m\u001b[0;34m\u001b[0m\u001b[0m\n\u001b[1;32m      3\u001b[0m \u001b[0mget_ipython\u001b[0m\u001b[0;34m(\u001b[0m\u001b[0;34m)\u001b[0m\u001b[0;34m.\u001b[0m\u001b[0mrun_line_magic\u001b[0m\u001b[0;34m(\u001b[0m\u001b[0;34m'matplotlib'\u001b[0m\u001b[0;34m,\u001b[0m \u001b[0;34m'inline'\u001b[0m\u001b[0;34m)\u001b[0m\u001b[0;34m\u001b[0m\u001b[0m\n\u001b[1;32m      4\u001b[0m \u001b[0;34m\u001b[0m\u001b[0m\n\u001b[1;32m      5\u001b[0m \u001b[0;31m# load the R package ISLR\u001b[0m\u001b[0;34m\u001b[0m\u001b[0;34m\u001b[0m\u001b[0m\n",
      "\u001b[0;31mImportError\u001b[0m: No module named 'pandas.rpy'"
     ]
    }
   ],
   "source": [
    "import pandas.rpy.common as com\n",
    "import seaborn as sns\n",
    "%matplotlib inline\n",
    "\n",
    "# load the R package ISLR\n",
    "infert = com.importr(\"ISLR\")\n",
    "\n",
    "# load the Auto dataset\n",
    "auto_df = com.load_data('Auto')\n",
    "\n",
    "# calculate the correlation matrix\n",
    "corr = numeric_df.corr()\n",
    "\n",
    "# plot the heatmap\n",
    "sns.heatmap(corr, \n",
    "        xticklabels=corr.columns,\n",
    "        yticklabels=corr.columns)"
   ]
  },
  {
   "cell_type": "code",
   "execution_count": 203,
   "metadata": {},
   "outputs": [
    {
     "data": {
      "image/png": "[encoded data removed]",
      "text/plain": [
       "<Figure size 720x720 with 2 Axes>"
      ]
     },
     "metadata": {},
     "output_type": "display_data"
    }
   ],
   "source": [
    "def heatMap(df):\n",
    "    #Create Correlation df\n",
    "    corr = df.corr()\n",
    "    #Plot figsize\n",
    "    fig, ax = plt.subplots(figsize=(10, 10))\n",
    "    #Generate Color Map\n",
    "    colormap = sns.diverging_palette(220, 10, as_cmap=True)\n",
    "    #Generate Heat Map, allow annotations and place floats in map\n",
    "    sns.heatmap(corr, cmap=colormap, annot=True, fmt=\".2f\")\n",
    "    #Apply xticks\n",
    "    plt.xticks(range(len(corr.columns)), corr.columns);\n",
    "    #Apply yticks\n",
    "    plt.yticks(range(len(corr.columns)), corr.columns)\n",
    "    #show plot\n",
    "    plt.show()\n",
    "    \n",
    "heatMap(numeric_df)"
   ]
  },
  {
   "cell_type": "code",
   "execution_count": 204,
   "metadata": {},
   "outputs": [
    {
     "data": {
      "text/plain": [
       "['age',\n",
       " 'last_contact_duration',\n",
       " 'no_of_contacts',\n",
       " 'time_between_contacts',\n",
       " 'previous_no_of_contacts',\n",
       " 'emp_var_rate',\n",
       " 'consumer_price_index',\n",
       " 'consumer_conf_index',\n",
       " 'euribor_3month_rate',\n",
       " 'num_of_employed']"
      ]
     },
     "execution_count": 204,
     "metadata": {},
     "output_type": "execute_result"
    }
   ],
   "source": [
    "list(numeric_df)"
   ]
  },
  {
   "cell_type": "code",
   "execution_count": 213,
   "metadata": {},
   "outputs": [
    {
     "name": "stdout",
     "output_type": "stream",
     "text": [
      "target             no   yes     ratio\n",
      "emp_var_rate                         \n",
      "(-1.8, -0.2]      704   704  1.000000\n",
      "(-3.405, -1.8]   9493  2597  0.273570\n",
      "(-0.2, 1.4]     26351  1339  0.050814\n"
     ]
    }
   ],
   "source": [
    "temp =pd.crosstab(pd.cut(df['emp_var_rate'],bins=3),df['target']) # hence we will create a new feature out of this variable\n",
    "temp['ratio'] = temp['yes']/temp['no']\n",
    "print(temp.sort_values(by = ['ratio'], ascending = False))"
   ]
  },
  {
   "cell_type": "code",
   "execution_count": 216,
   "metadata": {},
   "outputs": [
    {
     "name": "stdout",
     "output_type": "stream",
     "text": [
      "target                   no   yes     ratio\n",
      "num_of_employed                            \n",
      "(4998.867, 5016.5]      281   369  1.313167\n",
      "(4981.233, 4998.867]    370   403  1.089189\n",
      "(4963.336, 4981.233]    334   301  0.901198\n",
      "(5016.5, 5034.133]      701   542  0.773181\n",
      "(5069.4, 5087.033]     1069   594  0.555659\n",
      "(5087.033, 5104.667]   7442  1092  0.146735\n",
      "(5192.833, 5210.467]   3451   232  0.067227\n",
      "(5210.467, 5228.1]    15368   866  0.056351\n",
      "(5175.2, 5192.833]     7532   241  0.031997\n"
     ]
    }
   ],
   "source": [
    "temp =pd.crosstab(pd.cut(df['num_of_employed'],bins=15),df['target']) # hence we will create a new feature out of this variable\n",
    "temp['ratio'] = temp['yes']/temp['no']\n",
    "print(temp.sort_values(by = ['ratio'], ascending = False))"
   ]
  },
  {
   "cell_type": "code",
   "execution_count": null,
   "metadata": {},
   "outputs": [],
   "source": []
  },
  {
   "cell_type": "code",
   "execution_count": null,
   "metadata": {},
   "outputs": [],
   "source": []
  },
  {
   "cell_type": "code",
   "execution_count": null,
   "metadata": {},
   "outputs": [],
   "source": []
  },
  {
   "cell_type": "code",
   "execution_count": null,
   "metadata": {},
   "outputs": [],
   "source": []
  },
  {
   "cell_type": "code",
   "execution_count": null,
   "metadata": {},
   "outputs": [],
   "source": []
  },
  {
   "cell_type": "code",
   "execution_count": null,
   "metadata": {},
   "outputs": [],
   "source": []
  },
  {
   "cell_type": "code",
   "execution_count": null,
   "metadata": {},
   "outputs": [],
   "source": []
  }
 ],
 "metadata": {
  "kernelspec": {
   "display_name": "Python 3",
   "language": "python",
   "name": "python3"
  },
  "language_info": {
   "codemirror_mode": {
    "name": "ipython",
    "version": 3
   },
   "file_extension": ".py",
   "mimetype": "text/x-python",
   "name": "python",
   "nbconvert_exporter": "python",
   "pygments_lexer": "ipython3",
   "version": "3.7.0"
  }
 },
 "nbformat": 4,
 "nbformat_minor": 2
}
